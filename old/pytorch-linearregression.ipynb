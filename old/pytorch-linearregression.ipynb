{
 "cells": [
  {
   "cell_type": "code",
   "execution_count": 1,
   "id": "c01dc73a",
   "metadata": {},
   "outputs": [],
   "source": [
    "# Design model\n",
    "# construct loss and optimizer\n",
    "# Training loop\n",
    "\n",
    "import torch\n",
    "import torch.nn as nn\n",
    "import numpy as np\n",
    "from sklearn import datasets\n",
    "import matplotlib.pyplot as plt"
   ]
  },
  {
   "cell_type": "code",
   "execution_count": 2,
   "id": "b5d1201c",
   "metadata": {},
   "outputs": [],
   "source": [
    "# Prepare data\n",
    "\n",
    "X_numpy, y_numpy = datasets.make_regression(n_samples=100, n_features=1, noise=20, random_state=1)\n",
    "\n",
    "X = torch.from_numpy(X_numpy.astype(np.float32))\n",
    "Y = torch.from_numpy(y_numpy.astype(np.float32))"
   ]
  },
  {
   "cell_type": "code",
   "execution_count": 4,
   "id": "970fbf2e",
   "metadata": {},
   "outputs": [
    {
     "data": {
      "text/plain": [
       "torch.Size([100])"
      ]
     },
     "execution_count": 4,
     "metadata": {},
     "output_type": "execute_result"
    }
   ],
   "source": [
    "Y.shape"
   ]
  },
  {
   "cell_type": "code",
   "execution_count": 9,
   "id": "f533535e",
   "metadata": {},
   "outputs": [
    {
     "data": {
      "text/plain": [
       "torch.Size([100, 1])"
      ]
     },
     "execution_count": 9,
     "metadata": {},
     "output_type": "execute_result"
    }
   ],
   "source": [
    "Y = Y.view(Y.shape[0], 1)\n",
    "Y.shape"
   ]
  },
  {
   "cell_type": "code",
   "execution_count": 10,
   "id": "7fbde724",
   "metadata": {},
   "outputs": [],
   "source": [
    "n_samples, n_features = X.shape"
   ]
  },
  {
   "cell_type": "code",
   "execution_count": 11,
   "id": "656ff226",
   "metadata": {},
   "outputs": [],
   "source": [
    "# Build the model\n",
    "input_size = n_features\n",
    "output_size = 1\n",
    "model = nn.Linear(input_size, output_size)"
   ]
  },
  {
   "cell_type": "code",
   "execution_count": 12,
   "id": "93bb8125",
   "metadata": {},
   "outputs": [],
   "source": [
    "# Loss and optimizer\n",
    "learning_rate = 0.01\n",
    "criterion = nn.MSELoss()\n",
    "optimizer = torch.optim.SGD(model.parameters(), lr=learning_rate)"
   ]
  },
  {
   "cell_type": "code",
   "execution_count": 14,
   "id": "db302714",
   "metadata": {},
   "outputs": [
    {
     "name": "stdout",
     "output_type": "stream",
     "text": [
      "epoch: 10, loss = 4467.8950\n",
      "epoch: 20, loss = 3332.7693\n",
      "epoch: 30, loss = 2511.1125\n",
      "epoch: 40, loss = 1915.7417\n",
      "epoch: 50, loss = 1483.9233\n",
      "epoch: 60, loss = 1170.4498\n",
      "epoch: 70, loss = 942.7015\n",
      "epoch: 80, loss = 777.1105\n",
      "epoch: 90, loss = 656.6293\n",
      "epoch: 100, loss = 568.9138\n"
     ]
    }
   ],
   "source": [
    "# Training Loop\n",
    "\n",
    "num_epochs = 100\n",
    "\n",
    "for epoch in range(num_epochs):\n",
    "    # Forward pass\n",
    "    \n",
    "    y_predicted = model(X)\n",
    "    \n",
    "    # loss\n",
    "    loss = criterion(y_predicted, Y)\n",
    "    \n",
    "    #backward pass\n",
    "    loss.backward() #caclulate the gradients\n",
    "    \n",
    "    #update\n",
    "    \n",
    "    optimizer.step()\n",
    "    \n",
    "    # Now we need to empty our gradients\n",
    "    optimizer.zero_grad()\n",
    "    \n",
    "    if (epoch+1) % 10 == 0:\n",
    "        print(f'epoch: {epoch+1}, loss = {loss.item():.4f}')"
   ]
  },
  {
   "cell_type": "code",
   "execution_count": 18,
   "id": "c266eee7",
   "metadata": {},
   "outputs": [
    {
     "data": {
      "text/plain": [
       "torch.Size([100, 1])"
      ]
     },
     "execution_count": 18,
     "metadata": {},
     "output_type": "execute_result"
    }
   ],
   "source": [
    "# make plots\n",
    "\n",
    "predicted = model(X).detach() # Detach prevents it from being tracked in computational graph \n",
    "predicted.shape"
   ]
  },
  {
   "cell_type": "code",
   "execution_count": 19,
   "id": "fcb9dbd9",
   "metadata": {},
   "outputs": [
    {
     "data": {
      "image/png": "[encoded data removed]",
      "text/plain": [
       "<Figure size 640x480 with 1 Axes>"
      ]
     },
     "metadata": {},
     "output_type": "display_data"
    }
   ],
   "source": [
    "plt.plot(X_numpy, y_numpy, 'ro')\n",
    "plt.plot(X_numpy, predicted, 'b')\n",
    "plt.show()"
   ]
  },
  {
   "cell_type": "code",
   "execution_count": null,
   "id": "65cef349",
   "metadata": {},
   "outputs": [],
   "source": [
    "# Now we see that there is a pretty good approximation of our generated data set."
   ]
  }
 ],
 "metadata": {
  "kernelspec": {
   "display_name": "Python [conda env:Deep-Learning-Projects] *",
   "language": "python",
   "name": "conda-env-Deep-Learning-Projects-py"
  },
  "language_info": {
   "codemirror_mode": {
    "name": "ipython",
    "version": 3
   },
   "file_extension": ".py",
   "mimetype": "text/x-python",
   "name": "python",
   "nbconvert_exporter": "python",
   "pygments_lexer": "ipython3",
   "version": "3.10.8"
  }
 },
 "nbformat": 4,
 "nbformat_minor": 5
}
