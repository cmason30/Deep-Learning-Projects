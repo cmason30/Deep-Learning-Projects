{
 "cells": [
  {
   "cell_type": "code",
   "execution_count": 2,
   "id": "35cdd452",
   "metadata": {},
   "outputs": [],
   "source": [
    "import numpy as np"
   ]
  },
  {
   "cell_type": "code",
   "execution_count": 3,
   "id": "bb8d3544",
   "metadata": {},
   "outputs": [],
   "source": [
    "x = np.array([1,2,3,4], dtype=np.float32)\n",
    "\n",
    "Y =np.array([2,4,6,8], dtype=np.float32)\n",
    "\n",
    "w = 0.0"
   ]
  },
  {
   "cell_type": "code",
   "execution_count": 4,
   "id": "7a9794a8",
   "metadata": {},
   "outputs": [],
   "source": [
    "# model prediction\n",
    "\n",
    "def forward(x):\n",
    "    return w*x\n",
    "\n",
    "# loss = mse\n",
    "\n",
    "def loss(y, y_pred):\n",
    "    return ((y_pred - y)**2).mean()\n",
    "\n",
    "# gradient\n",
    "\n",
    "# MSE = 1/N * (w*x - y)**2\n",
    "#dJ/dw = 1/N 2x (w*x - y)\n",
    "\n",
    "def gradient(x, y, y_pred):\n",
    "    return np.dot(2*x, y_pred-y).mean()"
   ]
  },
  {
   "cell_type": "code",
   "execution_count": 5,
   "id": "3a172920",
   "metadata": {},
   "outputs": [
    {
     "name": "stdout",
     "output_type": "stream",
     "text": [
      "Prediction before training: f(5) = 0.000\n"
     ]
    }
   ],
   "source": [
    "print(f'Prediction before training: f(5) = {forward(5):.3f}')"
   ]
  },
  {
   "cell_type": "code",
   "execution_count": 9,
   "id": "97ff3eb9",
   "metadata": {},
   "outputs": [
    {
     "name": "stdout",
     "output_type": "stream",
     "text": [
      "epoch 1: w = 2.000, loss = 0.00000033\n",
      "epoch 3: w = 2.000, loss = 0.00000001\n",
      "epoch 5: w = 2.000, loss = 0.00000000\n",
      "epoch 7: w = 2.000, loss = 0.00000000\n",
      "epoch 9: w = 2.000, loss = 0.00000000\n",
      "epoch 11: w = 2.000, loss = 0.00000000\n",
      "epoch 13: w = 2.000, loss = 0.00000000\n",
      "epoch 15: w = 2.000, loss = 0.00000000\n",
      "epoch 17: w = 2.000, loss = 0.00000000\n",
      "epoch 19: w = 2.000, loss = 0.00000000\n",
      "epoch 21: w = 2.000, loss = 0.00000000\n",
      "epoch 23: w = 2.000, loss = 0.00000000\n",
      "epoch 25: w = 2.000, loss = 0.00000000\n",
      "Prediction after training: f(5) = 10.000\n"
     ]
    }
   ],
   "source": [
    "# training \n",
    "\n",
    "learning_rate = 0.01\n",
    "n_iters=25\n",
    "\n",
    "for epoch in range(n_iters):\n",
    "    y_pred2 = forward(x)\n",
    "    \n",
    "    # loss \n",
    "    l = loss(Y, y_pred2)\n",
    "    \n",
    "    #gradients\n",
    "    \n",
    "    dw = gradient(x,Y,y_pred2)\n",
    "    \n",
    "    # update weights\n",
    "    \n",
    "    w -= learning_rate*dw\n",
    "    \n",
    "    if epoch % 2 ==0:\n",
    "        print(f'epoch {epoch+1}: w = {w:.3f}, loss = {l:.8f}')\n",
    "\n",
    "\n",
    "print(f'Prediction after training: f(5) = {forward(5):.3f}')\n",
    "    "
   ]
  },
  {
   "cell_type": "code",
   "execution_count": 8,
   "id": "f1b1a67b",
   "metadata": {},
   "outputs": [],
   "source": [
    "## same but with pytorch\n",
    "\n",
    "import torch\n",
    "import torch.nn as nn"
   ]
  },
  {
   "cell_type": "code",
   "execution_count": 18,
   "id": "8c5df5d8",
   "metadata": {},
   "outputs": [
    {
     "name": "stdout",
     "output_type": "stream",
     "text": [
      "Prediction before training: f(5) = -4.469\n"
     ]
    }
   ],
   "source": [
    "X = torch.tensor([[1],[2],[3],[4]], dtype=torch.float32) # needs to be a 2d array. Of 4 samples, and 1 feature. \n",
    "Y=torch.tensor([[2],[4],[6],[8]], dtype=torch.float32)\n",
    "\n",
    "X_test = torch.tensor([5], dtype=torch.float32)\n",
    "\n",
    "n_samples, n_features = X.shape\n",
    "\n",
    "input_size = n_features\n",
    "output_size = n_features\n",
    "\n",
    "w = torch.tensor(0.0, dtype=torch.float32, requires_grad=True)\n",
    "\n",
    "\n",
    "# Make a custom model\n",
    "\n",
    "class LinearRegression(nn.Module):\n",
    "    \n",
    "    def __init__(self, input_dim, output_dim):\n",
    "        super(LinearRegression, self).__init__()\n",
    "        \n",
    "        self.lin = nn.Linear(input_dim, output_dim)\n",
    "        \n",
    "    def forward(self, x):\n",
    "        return self.lin(x)\n",
    "    \n",
    "    \n",
    "\n",
    "model = LinearRegression(input_size, output_size)\n",
    "#model = nn.Linear(input_size, output_size)\n",
    "\n",
    "print(f'Prediction before training: f(5) = {model(X_test).item():.3f}')"
   ]
  },
  {
   "cell_type": "code",
   "execution_count": 19,
   "id": "f1c3c77e",
   "metadata": {},
   "outputs": [
    {
     "name": "stdout",
     "output_type": "stream",
     "text": [
      "epoch 1: w = -0.349, loss = 65.80593872\n",
      "epoch 11: w = 1.513, loss = 1.72689712\n",
      "epoch 21: w = 1.815, loss = 0.06760229\n",
      "epoch 31: w = 1.867, loss = 0.02333817\n",
      "epoch 41: w = 1.879, loss = 0.02093629\n",
      "epoch 51: w = 1.883, loss = 0.01969072\n",
      "epoch 61: w = 1.887, loss = 0.01854392\n",
      "epoch 71: w = 1.890, loss = 0.01746452\n",
      "epoch 81: w = 1.894, loss = 0.01644798\n",
      "epoch 91: w = 1.897, loss = 0.01549063\n",
      "Prediction after training: f(5) = 9.793\n"
     ]
    }
   ],
   "source": [
    "# torch training\n",
    "\n",
    "\n",
    "learning_rate = 0.01\n",
    "n_iters=100\n",
    "\n",
    "loss = nn.MSELoss()\n",
    "optimizer = torch.optim.SGD(model.parameters(), lr=learning_rate)\n",
    "\n",
    "for epoch in range(n_iters):\n",
    "    \n",
    "    # forward\n",
    "    y_pred2 = model(X)\n",
    "    \n",
    "    # loss \n",
    "    l = loss(Y, y_pred2)\n",
    "    \n",
    "    #gradients\n",
    "    \n",
    "    l.backward() #dl/dw\n",
    "    \n",
    "    # update weights\n",
    "    \n",
    "    optimizer.step()\n",
    "#     with torch.no_grad():\n",
    "#         w -= learning_rate*w.grad\n",
    "        \n",
    "    #zero gradients\n",
    "    optimizer.zero_grad()\n",
    "#     w.grad.zero_()\n",
    "    \n",
    "    if epoch % 10 ==0:\n",
    "        [w,b] = model.parameters()\n",
    "        \n",
    "        print(f'epoch {epoch+1}: w = {w[0][0].item():.3f}, loss = {l:.8f}')\n",
    "\n",
    "\n",
    "print(f'Prediction after training: f(5) = {model(X_test).item():.3f}')"
   ]
  },
  {
   "cell_type": "code",
   "execution_count": null,
   "id": "152cff2d",
   "metadata": {},
   "outputs": [],
   "source": [
    "# make a custom model\n",
    "\n",
    "class LinearRegression(nn.Module)\n",
    "    \n",
    "    def __init__(self, input_dim, output_dim):\n",
    "        super(LinearRegression, self).__init__()\n",
    "        \n",
    "        self.lin = nn.Linear(input_dim, output_dim)\n",
    "        \n",
    "    def forward(self, x):\n",
    "        return self.lin(x)\n",
    "    \n",
    "    \n",
    "\n",
    "model = LinearRegression(input_size, output_size)"
   ]
  }
 ],
 "metadata": {
  "kernelspec": {
   "display_name": "Python [conda env:Deep-Learning-Projects] *",
   "language": "python",
   "name": "conda-env-Deep-Learning-Projects-py"
  },
  "language_info": {
   "codemirror_mode": {
    "name": "ipython",
    "version": 3
   },
   "file_extension": ".py",
   "mimetype": "text/x-python",
   "name": "python",
   "nbconvert_exporter": "python",
   "pygments_lexer": "ipython3",
   "version": "3.10.8"
  }
 },
 "nbformat": 4,
 "nbformat_minor": 5
}
