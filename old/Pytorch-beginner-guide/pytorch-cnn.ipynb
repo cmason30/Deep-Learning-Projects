{
 "cells": [
  {
   "cell_type": "code",
   "execution_count": 1,
   "id": "788734f0",
   "metadata": {},
   "outputs": [],
   "source": [
    "import torch\n",
    "import torch.nn as nn\n",
    "import torch.nn.functional as F\n",
    "import torchvision\n",
    "import torchvision.transforms as transforms\n",
    "import matplotlib.pyplot as plt\n",
    "import numpy as np"
   ]
  },
  {
   "cell_type": "code",
   "execution_count": 2,
   "id": "0deda4c6",
   "metadata": {},
   "outputs": [],
   "source": [
    "# Hyperparameters\n",
    "\n",
    "num_epochs = 4\n",
    "batch_size = 4\n",
    "learning_rate = 0.001\n",
    "\n",
    "device = torch.device('cuda' if torch.cuda.is_available() else 'cpu')"
   ]
  },
  {
   "cell_type": "code",
   "execution_count": 3,
   "id": "653550b5",
   "metadata": {},
   "outputs": [],
   "source": [
    "transform = transforms.Compose([transforms.ToTensor(),\n",
    "                               transforms.Normalize((0.5,0.5,0.5), (0.5,0.5,0.5))])"
   ]
  },
  {
   "cell_type": "code",
   "execution_count": 4,
   "id": "c193ed0f",
   "metadata": {},
   "outputs": [
    {
     "name": "stdout",
     "output_type": "stream",
     "text": [
      "Files already downloaded and verified\n",
      "Files already downloaded and verified\n"
     ]
    }
   ],
   "source": [
    "train_dataset = torchvision.datasets.CIFAR10(root='./data', \n",
    "                                              train=True,\n",
    "                                             download=True,\n",
    "                                             transform=transform)\n",
    "\n",
    "test_dataset = torchvision.datasets.CIFAR10(root='./data', \n",
    "                                              train=False,\n",
    "                                             download=True,\n",
    "                                             transform=transform)\n",
    "\n",
    "train_loader = torch.utils.data.DataLoader(train_dataset,\n",
    "                                          batch_size=batch_size,\n",
    "                                          shuffle=True)\n",
    "\n",
    "test_loader = torch.utils.data.DataLoader(test_dataset,\n",
    "                                          batch_size=batch_size,\n",
    "                                          shuffle=False)\n",
    "\n"
   ]
  },
  {
   "cell_type": "code",
   "execution_count": 5,
   "id": "38994e56",
   "metadata": {},
   "outputs": [],
   "source": [
    "classes = ('plane', 'car', 'bird', 'cat', 'deer', 'dog', 'frog', 'horse', 'ship', 'truck')\n",
    "\n"
   ]
  },
  {
   "cell_type": "code",
   "execution_count": 6,
   "id": "fbc621bb",
   "metadata": {},
   "outputs": [],
   "source": [
    "class ConvNet(nn.Module):\n",
    "    def __init__(self):\n",
    "        super(ConvNet, self).__init__()\n",
    "        self.conv1 = nn.Conv2d(3,6,5)#3=input channel size, 6=output channel size, 5=kernel size\n",
    "        self.pool = nn.MaxPool2d(2, 2)#kenrel size=2, stride=2\n",
    "        self.conv2 = nn.Conv2d(6,16,5)#input channel size must be equal to output channel size (6), output channel size=16, kernel size =5\n",
    "        self.fc1 = nn.Linear(16*5*5, 120)# 16*5*5 must be fixed. It flattens the image to one column.\n",
    "        self.fc2 = nn.Linear(120, 84)\n",
    "        self.fc3 = nn.Linear(84,10)# 10 ust be fixed as output of 10 classes\n",
    "    def forward(self, x):\n",
    "        # first convolutional and pooling layer\n",
    "        x = self.conv1(x)\n",
    "        x = F.relu(x)\n",
    "        x = self.pool(x)\n",
    "        \n",
    "        # second convolutional and pooling layer\n",
    "        x = self.conv2(x)\n",
    "        x = F.relu(x)\n",
    "        x = self.pool(x)\n",
    "        \n",
    "        # pass to FC layer\n",
    "        x = x.view(-1, 16*5*5) # -1 gives us correct number of batches. Then the flattened size\n",
    "        x = self.fc1(x)\n",
    "        x = F.relu(x)\n",
    "        \n",
    "        x = self.fc2(x)\n",
    "        x = F.relu(x)\n",
    "        \n",
    "        x = self.fc3(x)\n",
    "        \n",
    "        return x\n",
    "        "
   ]
  },
  {
   "cell_type": "code",
   "execution_count": 7,
   "id": "67a87764",
   "metadata": {},
   "outputs": [],
   "source": [
    "model = ConvNet()\n",
    "\n",
    "criterion = nn.CrossEntropyLoss() # good for multiclass classification problems\n",
    "optimizer = torch.optim.SGD(model.parameters(), lr=learning_rate)\n",
    "n_total_steps = len(train_loader)"
   ]
  },
  {
   "cell_type": "code",
   "execution_count": 8,
   "id": "008e8245",
   "metadata": {},
   "outputs": [
    {
     "name": "stdout",
     "output_type": "stream",
     "text": [
      "Epoch [1/4], Step[2000/12500], Loss: 2.2758\n",
      "Epoch [1/4], Step[4000/12500], Loss: 2.3110\n",
      "Epoch [1/4], Step[6000/12500], Loss: 2.3272\n",
      "Epoch [1/4], Step[8000/12500], Loss: 2.2734\n",
      "Epoch [1/4], Step[10000/12500], Loss: 2.1697\n",
      "Epoch [1/4], Step[12000/12500], Loss: 2.4018\n",
      "Epoch [2/4], Step[2000/12500], Loss: 2.1083\n",
      "Epoch [2/4], Step[4000/12500], Loss: 1.7107\n",
      "Epoch [2/4], Step[6000/12500], Loss: 1.4381\n",
      "Epoch [2/4], Step[8000/12500], Loss: 2.0191\n",
      "Epoch [2/4], Step[10000/12500], Loss: 1.4032\n",
      "Epoch [2/4], Step[12000/12500], Loss: 1.6365\n",
      "Epoch [3/4], Step[2000/12500], Loss: 1.6443\n",
      "Epoch [3/4], Step[4000/12500], Loss: 1.2250\n",
      "Epoch [3/4], Step[6000/12500], Loss: 1.5593\n",
      "Epoch [3/4], Step[8000/12500], Loss: 0.9078\n",
      "Epoch [3/4], Step[10000/12500], Loss: 1.7667\n",
      "Epoch [3/4], Step[12000/12500], Loss: 1.2905\n",
      "Epoch [4/4], Step[2000/12500], Loss: 1.3153\n",
      "Epoch [4/4], Step[4000/12500], Loss: 1.1406\n",
      "Epoch [4/4], Step[6000/12500], Loss: 1.2647\n",
      "Epoch [4/4], Step[8000/12500], Loss: 1.0811\n",
      "Epoch [4/4], Step[10000/12500], Loss: 1.6590\n",
      "Epoch [4/4], Step[12000/12500], Loss: 1.1031\n",
      "Training complete.\n"
     ]
    }
   ],
   "source": [
    "\n",
    "for epoch in range(num_epochs):\n",
    "    for i, (images, labels) in enumerate(train_loader):\n",
    "        images = images.to(device)\n",
    "        labels = labels.to(device)\n",
    "        \n",
    "        outputs = model(images)\n",
    "        loss = criterion(outputs, labels)\n",
    "        \n",
    "        optimizer.zero_grad()\n",
    "        loss.backward()\n",
    "        optimizer.step()\n",
    "        \n",
    "        if (i+1) % 2000 == 0:\n",
    "            print(f'Epoch [{epoch+1}/{num_epochs}], Step[{i+1}/{n_total_steps}], Loss: {loss.item():.4f}')\n",
    "            \n",
    "print(\"Training complete.\")"
   ]
  },
  {
   "cell_type": "code",
   "execution_count": 9,
   "id": "8c814de5",
   "metadata": {},
   "outputs": [
    {
     "name": "stdout",
     "output_type": "stream",
     "text": [
      "Accuracy of the network 46.49%\n",
      "Accuracy of plane: 41.6%\n",
      "Accuracy of car: 58.0%\n",
      "Accuracy of bird: 27.6%\n",
      "Accuracy of cat: 36.9%\n",
      "Accuracy of deer: 17.4%\n",
      "Accuracy of dog: 36.8%\n",
      "Accuracy of frog: 58.2%\n",
      "Accuracy of horse: 63.4%\n",
      "Accuracy of ship: 63.4%\n",
      "Accuracy of truck: 61.6%\n"
     ]
    }
   ],
   "source": [
    "with torch.no_grad():\n",
    "    n_correct=0\n",
    "    n_samples=0\n",
    "    n_class_correct = [0 for i in range(10)]\n",
    "    n_class_samples = [0 for i in range(10)]\n",
    "    \n",
    "    for images, labels in test_loader:\n",
    "        images = images.to(device)\n",
    "        labels = labels.to(device)\n",
    "        outputs = model(images)\n",
    "        \n",
    "        _, predicted = torch.max(outputs, 1)\n",
    "        \n",
    "        n_samples += labels.size(0)\n",
    "        n_correct += (predicted == labels).sum().item()\n",
    "        \n",
    "        for i in range(batch_size):\n",
    "            label = labels[i]\n",
    "            pred = predicted[i]\n",
    "            \n",
    "            if (label == pred):\n",
    "                n_class_correct[label] +=1\n",
    "            \n",
    "            n_class_samples[label] += 1\n",
    "            \n",
    "    acc = 100.0 * n_correct / n_samples\n",
    "    \n",
    "    print(f'Accuracy of the network {acc}%')\n",
    "    \n",
    "    for i in range(10):\n",
    "        acc = 100.0 * n_class_correct[i] / n_class_samples[i]\n",
    "        \n",
    "        print(f'Accuracy of {classes[i]}: {acc}%')\n",
    "    \n",
    "    "
   ]
  },
  {
   "cell_type": "code",
   "execution_count": null,
   "id": "fef4adfc",
   "metadata": {},
   "outputs": [],
   "source": []
  }
 ],
 "metadata": {
  "kernelspec": {
   "display_name": "Python [conda env:Deep-Learning-Projects] *",
   "language": "python",
   "name": "conda-env-Deep-Learning-Projects-py"
  },
  "language_info": {
   "codemirror_mode": {
    "name": "ipython",
    "version": 3
   },
   "file_extension": ".py",
   "mimetype": "text/x-python",
   "name": "python",
   "nbconvert_exporter": "python",
   "pygments_lexer": "ipython3",
   "version": "3.10.8"
  }
 },
 "nbformat": 4,
 "nbformat_minor": 5
}
