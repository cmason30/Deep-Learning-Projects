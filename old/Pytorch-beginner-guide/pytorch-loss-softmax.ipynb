{
 "cells": [
  {
   "cell_type": "code",
   "execution_count": 1,
   "id": "ac10235a",
   "metadata": {},
   "outputs": [],
   "source": [
    "import torch\n",
    "import torch.nn as nn\n",
    "import numpy as np"
   ]
  },
  {
   "cell_type": "code",
   "execution_count": 6,
   "id": "e1d2b9fa",
   "metadata": {},
   "outputs": [],
   "source": [
    "def cross_entropy(actual, predicted):\n",
    "    loss = -np.sum(actual*np.log(predicted))\n",
    "    return loss"
   ]
  },
  {
   "cell_type": "code",
   "execution_count": 7,
   "id": "5bb42e31",
   "metadata": {},
   "outputs": [],
   "source": [
    "Y = np.array([1,0,0])"
   ]
  },
  {
   "cell_type": "code",
   "execution_count": 8,
   "id": "421db1cc",
   "metadata": {},
   "outputs": [
    {
     "name": "stdout",
     "output_type": "stream",
     "text": [
      "Loss1 numpy: 0.3567\n",
      "Loss2 numpy: 2.3026\n"
     ]
    }
   ],
   "source": [
    "Y_pred_good = np.array([0.7,0.2,0.1])\n",
    "Y_pred_bad = np.array([0.1,0.3,0.6])\n",
    "\n",
    "l1 = cross_entropy(Y, Y_pred_good)\n",
    "l2 = cross_entropy(Y, Y_pred_bad)\n",
    "\n",
    "print(f\"Loss1 numpy: {l1:.4f}\")\n",
    "print(f\"Loss2 numpy: {l2:.4f}\")"
   ]
  },
  {
   "cell_type": "code",
   "execution_count": 11,
   "id": "d1652af3",
   "metadata": {},
   "outputs": [],
   "source": [
    "# Pytorch implementation\n",
    "\n",
    "loss = nn.CrossEntropyLoss()\n",
    "# Careful with PyTorch CEL implementation!\n",
    "# This function applies LogSoftMax and NLLLoss(negative log likelihood loss)\n",
    "# No softmax in last layer\n",
    "# Y has class labels, not one-hot\n",
    "# Y_pred has raw scores (logits), no softmax!"
   ]
  },
  {
   "cell_type": "code",
   "execution_count": 18,
   "id": "1b1c7168",
   "metadata": {},
   "outputs": [],
   "source": [
    "Y = torch.tensor([2, 0, 1])\n",
    "\n",
    "#n samples x nclasses = 3x3\n",
    "Y_pred_good = torch.tensor([[0.1, 1.0, 2.1], [2.0, 1.0, 0.1], [1.5, 3.0, 0.1]])\n",
    "Y_pred_bad = torch.tensor([[2.5, 1.2, 0.3],[0.5, 0.2, 2.1],[0.5, 3.0, 0.3]])\n",
    "\n",
    "l1 = loss(Y_pred_good, Y)\n",
    "l2 = loss(Y_pred_bad, Y)"
   ]
  },
  {
   "cell_type": "code",
   "execution_count": 19,
   "id": "ddad10a9",
   "metadata": {},
   "outputs": [
    {
     "name": "stdout",
     "output_type": "stream",
     "text": [
      "0.3488292694091797 1.5216106176376343\n"
     ]
    }
   ],
   "source": [
    "print(l1.item(), l2.item())"
   ]
  },
  {
   "cell_type": "code",
   "execution_count": 20,
   "id": "eca5a489",
   "metadata": {},
   "outputs": [
    {
     "name": "stdout",
     "output_type": "stream",
     "text": [
      "tensor([2, 0, 1]) tensor([0, 2, 1])\n"
     ]
    }
   ],
   "source": [
    "_, predictions1 = torch.max(Y_pred_good, 1)\n",
    "_, predictions2 = torch.max(Y_pred_bad, 1)\n",
    "\n",
    "print(predictions1, predictions2)"
   ]
  },
  {
   "cell_type": "code",
   "execution_count": 21,
   "id": "e9c015cb",
   "metadata": {},
   "outputs": [],
   "source": [
    "# Testing loss function on neural network\n",
    "\n",
    "class NeuralNet2(nn.Module):\n",
    "    def __init__(self, input_size, hidden_size, num_classes):\n",
    "        super(NeuralNet2, self).__init__()\n",
    "        self.Linear1 = nn.Linear(input_size, hidden_size)\n",
    "        self.relu = nn.ReLU()\n",
    "        self.Linear2 = nn.Linear(hidden_size, num_classes)\n",
    "        \n",
    "    def forward(self, x):\n",
    "        out = self.linear1(x)\n",
    "        out = self.relu(out)\n",
    "        out = self.linear2(out)\n",
    "        # no softmax at end\n",
    "        return out\n"
   ]
  },
  {
   "cell_type": "code",
   "execution_count": 22,
   "id": "e594e383",
   "metadata": {},
   "outputs": [],
   "source": [
    "model = NeuralNet2(input_size=28*28, hidden_size=5, num_classes=3)\n",
    "criterion = nn.CrossEntropyLoss()"
   ]
  },
  {
   "cell_type": "code",
   "execution_count": 23,
   "id": "67e2eac9",
   "metadata": {},
   "outputs": [],
   "source": [
    "### Activation Functions\n",
    "\n",
    "# Sigmoid -> typically in the last layer of a binary classification problem\n",
    "# Tanh -> Scaled and shifted sigmoid function. Good for hidden layers\n",
    "# ReLU -> Most popular choice for hidden layers. If you dont know which to use just use ReLU\n",
    "# Leaky ReLU -> Improved version of the ReLU that tries to solve vanishing gradient problem\n",
    "# Softmax -> Good in last layer of multiclass classification problem"
   ]
  },
  {
   "cell_type": "code",
   "execution_count": 25,
   "id": "df32554e",
   "metadata": {},
   "outputs": [],
   "source": [
    "import torch.nn.functional as F"
   ]
  },
  {
   "cell_type": "code",
   "execution_count": 26,
   "id": "c6d97808",
   "metadata": {},
   "outputs": [],
   "source": [
    "class NeuralNet(nn.Module):\n",
    "    def __init__(self, input_size, hidden_size):\n",
    "        super(NeuralNet, self).__init__()\n",
    "        self.linear1 = nn.Linear(input_size, hidden_size)\n",
    "        self.relu = nn.ReLU()\n",
    "        # nn.Sigmoid\n",
    "        # nn.Softmax\n",
    "        # nn.TanH\n",
    "        # nn.LeakyReLU\n",
    "        self.linear2 = nn.Linear(hidden_size, 1)\n",
    "        self.sigmoid = nn.Sigmoid()\n",
    "        \n",
    "    def forward(self, x):\n",
    "        out = self.linear1(x)\n",
    "        out = self.relu(out)\n",
    "        out = self.linear2(out)\n",
    "        out = self.sigmoid(out)\n",
    "        \n",
    "        return out"
   ]
  },
  {
   "cell_type": "code",
   "execution_count": null,
   "id": "9b1bdd34",
   "metadata": {},
   "outputs": [],
   "source": []
  }
 ],
 "metadata": {
  "kernelspec": {
   "display_name": "Python [conda env:Deep-Learning-Projects] *",
   "language": "python",
   "name": "conda-env-Deep-Learning-Projects-py"
  },
  "language_info": {
   "codemirror_mode": {
    "name": "ipython",
    "version": 3
   },
   "file_extension": ".py",
   "mimetype": "text/x-python",
   "name": "python",
   "nbconvert_exporter": "python",
   "pygments_lexer": "ipython3",
   "version": "3.10.8"
  }
 },
 "nbformat": 4,
 "nbformat_minor": 5
}
